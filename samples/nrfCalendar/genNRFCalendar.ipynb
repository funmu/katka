{
 "cells": [
  {
   "cell_type": "code",
   "execution_count": 179,
   "metadata": {
    "collapsed": false
   },
   "outputs": [
    {
     "name": "stdout",
     "output_type": "stream",
     "text": [
      "genNRFCalendar   v1.0  by Murali Krishnan\n",
      "\n",
      "\n",
      "Generates Retail 4-5-4 calendar starting at Januar 30, 2000 (Gregorian).\n",
      " Jan 30, 2000 is Day 1, Week 1 of Year 2000 Retail.\n",
      "2000-01-30 00:00:00\n"
     ]
    }
   ],
   "source": [
    "#\n",
    "# genNRFCalendar - generate Calendar as per National Retail Federation Specs.\n",
    "# Author: Murali Krishnan\n",
    "# version: v1.0\n",
    "# Date: May 16, 2016\n",
    "#\n",
    "# Specification at: https://nrf.com/resources/4-5-4-calendar\n",
    "\n",
    "program =\"genNRFCalendar\";\n",
    "version = \"v1.0\";\n",
    "author  = \"Murali Krishnan\";\n",
    "\n",
    "import datetime;\n",
    "import csv;\n",
    "retailEpocStart = datetime.datetime( 2000, 1, 30);\n",
    "\n",
    "print program, \" \", version, \" by\", author;\n",
    "print \"\\n\"\n",
    "print \"Generates Retail 4-5-4 calendar starting at Januar 30, 2000 (Gregorian).\";\n",
    "print \" Jan 30, 2000 is Day 1, Week 1 of Year 2000 Retail.\"\n",
    "print retailEpocStart;"
   ]
  },
  {
   "cell_type": "code",
   "execution_count": 180,
   "metadata": {
    "collapsed": false
   },
   "outputs": [],
   "source": [
    "# The output shows the Gregorian year, month, and date on the far left and\n",
    "#  the Retail 4-5-4 year, week of year, and day of week in the next three columns\n",
    "class NRFCalendarDay:\n",
    "    Retail454dayofweek = 1;\n",
    "    Retail454dayofmonth = 1;\n",
    "    Retail454month = 1;\n",
    "    Retail454weekofmonth = 1;\n",
    "    Retail454weeksinmonth = 4; \n",
    "    Retail454weekofyear  = 1;\n",
    "    Retail454year = 2000;\n",
    "    \n",
    "    def __init__( self):\n",
    "        print \"Initialized NRF Calendar Day\";\n",
    "\n",
    "    def Clone( self):\n",
    "        cloneFrom = self;\n",
    "        newNRFC = NRFCalendarDay();\n",
    "        newNRFC.Retail454dayofweek = cloneFrom.Retail454dayofweek;\n",
    "        newNRFC.Retail454dayofmonth = cloneFrom.Retail454dayofmonth;\n",
    "        newNRFC.Retail454month = cloneFrom.Retail454month;\n",
    "        newNRFC.Retail454weekofmonth = cloneFrom.Retail454weekofmonth;\n",
    "        newNRFC.Retail454weeksinmonth = cloneFrom.Retail454weeksinmonth; \n",
    "        newNRFC.Retail454weekofyear  = cloneFrom.Retail454weekofyear;\n",
    "        newNRFC.Retail454year = cloneFrom.Retail454year;\n",
    "        return newNRFC;\n",
    "        \n",
    "    #  calculate number of weeks in 454 month\n",
    "    def NumWeeksInMonth( self, givenMonth):\n",
    "        numWeeks = 4;\n",
    "        if ( ( self.Retail454month == 2) or ( self.Retail454month == 5) or ( self.Retail454month == 8) or ( self.Retail454month == 11)):\n",
    "            numWeeks = 5;\n",
    "        elif ( self.Retail454month == 12) :\n",
    "            if ( givenMonth == 12):\n",
    "                numWeeks = 5;\n",
    "\n",
    "        return numWeeks;\n",
    "\n",
    "    #  calculate Week of Year given other data\n",
    "    def calcWeekOfYear( self):\n",
    "        weekOfYear = self.Retail454weekofyear;\n",
    "        # check if there is a rollover. if so, reset week of year.\n",
    "        # ToDo: How do i distinguish between years with 52 weeks and 53 weeks?\n",
    "        if ( self.Retail454dayofweek == 1):\n",
    "            weekOfYear = self.Retail454weekofyear + 1;\n",
    "            if ((self.Retail454month == 1) and (self.Retail454weekofyear >= 50)):\n",
    "                weekOfYear = 1;\n",
    "\n",
    "        return weekOfYear;\n",
    "\n",
    "\n",
    "    def IncrementRetail454( self, givenMonth):\n",
    "        # NRFCalendarDay newDay = NRFCalendarDay;\n",
    "\n",
    "        # 1. Calculate the day of the week\n",
    "        self.Retail454dayofweek = (self.Retail454dayofweek % 7) + 1;\n",
    "\n",
    "        # 2. Calculate day of the month\n",
    "        if ( ( self.Retail454weeksinmonth == 4) and (self.Retail454dayofmonth == 28) or ( self.Retail454weeksinmonth == 5) and (self.Retail454dayofmonth == 35)):\n",
    "            # roll forward the month\n",
    "            self.Retail454month = ((self.Retail454month % 12) + 1);\n",
    "            self.Retail454dayofmonth = 1;\n",
    "        else:\n",
    "            self.Retail454dayofmonth += 1;\n",
    "\n",
    "        # 3. set the week of month number\n",
    "        if (self.Retail454dayofweek == 1):\n",
    "            if (self.Retail454weekofmonth == self.Retail454weeksinmonth):\n",
    "                # reset the week to be the starting week of a month\n",
    "                self.Retail454weekofmonth = 1;\n",
    "            else:\n",
    "                # roll forward the week to next week\n",
    "                self.Retail454weekofmonth += 1;\n",
    "\n",
    "        # 4. Calculate number of weeks in month if it is a new month\n",
    "        if ( self.Retail454dayofmonth == 1):\n",
    "            self.Retail454weeksinmonth = self.NumWeeksInMonth( givenMonth);\n",
    "\n",
    "        # 5. Calculate week of year and udpate accordingly\n",
    "        self.Retail454weekofyear = self.calcWeekOfYear();\n",
    "\n",
    "        # 6. Update year only if there is a roll over. \n",
    "        #   i.e. only if day == 1 and week of year == 1;\n",
    "        if ((self.Retail454dayofweek == 1) and (self.Retail454weekofyear == 1)):\n",
    "            self.Retail454year += 1;\n",
    "\n",
    "        return self;\n",
    "    \n",
    "    def Print(self):\n",
    "        formatString = \"Retail Day of Week: {0}, Day Of Month {1}, Month {2}, Week Of Month {3}, Weeks In Month {4}, Week Of Year {5}, Year {6}\";\n",
    "        print formatString.format( self.Retail454dayofweek, self.Retail454dayofmonth, self.Retail454month, self.Retail454weekofmonth, self.Retail454weeksinmonth, self.Retail454weekofyear, self.Retail454year);\n"
   ]
  },
  {
   "cell_type": "code",
   "execution_count": 181,
   "metadata": {
    "collapsed": false
   },
   "outputs": [
    {
     "name": "stdout",
     "output_type": "stream",
     "text": [
      "Initialized NRF Calendar Day\n",
      "2000\n",
      "Retail Day of Week: 1, Day Of Month 1, Month 1, Week Of Month 1, Weeks In Month 4, Week Of Year 1, Year 2000\n"
     ]
    }
   ],
   "source": [
    "N = NRFCalendarDay;\n",
    "n = N();\n",
    "print n.Retail454year;\n",
    "n.Print();"
   ]
  },
  {
   "cell_type": "code",
   "execution_count": 182,
   "metadata": {
    "collapsed": false
   },
   "outputs": [
    {
     "name": "stdout",
     "output_type": "stream",
     "text": [
      "2\n",
      "Retail Day of Week: 2, Day Of Month 2, Month 1, Week Of Month 1, Weeks In Month 4, Week Of Year 1, Year 2000\n"
     ]
    }
   ],
   "source": [
    "b= n.IncrementRetail454(1);\n",
    "print b.Retail454dayofweek;\n",
    "b.Print();"
   ]
  },
  {
   "cell_type": "code",
   "execution_count": 183,
   "metadata": {
    "collapsed": false
   },
   "outputs": [
    {
     "name": "stdout",
     "output_type": "stream",
     "text": [
      "2000-01-30 00:00:00\n"
     ]
    }
   ],
   "source": [
    "retailEpocStart = datetime.datetime( 2000, 1, 30);\n",
    "print retailEpocStart;"
   ]
  },
  {
   "cell_type": "code",
   "execution_count": 184,
   "metadata": {
    "collapsed": false
   },
   "outputs": [
    {
     "name": "stdout",
     "output_type": "stream",
     "text": [
      "2016-05-17 01:56:48.417390\n"
     ]
    }
   ],
   "source": [
    "dNow = datetime.datetime.now();\n",
    "print dNow;"
   ]
  },
  {
   "cell_type": "code",
   "execution_count": 192,
   "metadata": {
    "collapsed": true
   },
   "outputs": [],
   "source": [
    "# - local helper function\n",
    "def writeCalendarForDate( csvWriter, dtCur, rc):\n",
    "    rowToWrite = [  dtCur.year, dtCur.month, dtCur.day, \n",
    "                    rc.Retail454dayofweek, rc.Retail454dayofmonth, rc.Retail454month, \n",
    "                    rc.Retail454weekofmonth, rc.Retail454weeksinmonth, \n",
    "                    rc.Retail454weekofyear, rc.Retail454year];\n",
    "    csvWriter.writerow( rowToWrite);\n",
    "\n",
    "\n",
    "class NRFGenerator:\n",
    "    retailEpocStart = None;\n",
    "    outputFormat = [ \"GregorianYear\", \"GregorianMonth\", \"GregorianDay\",\n",
    "                    \"Retail454dayofweek\", \"Retail454dayofmonth\", \"Retail454month\",\n",
    "                    \"Retail454weekofmonth\", \"Retail454weeksinmonth\", \n",
    "                    \"Retail454weekofyear\", \"Retail454year\" ];\n",
    "\n",
    "    def __init__(self):\n",
    "        self.retailEpocStart = datetime.datetime( 2000, 1, 30);\n",
    "        print \"Initialized NRF Generator\";\n",
    "\n",
    "    def NumDaysFromRetailEpoch( self, dtStart):\n",
    "        tdStart = dtStart - self.retailEpocStart; # gives the time delta between the new start date and epoch\n",
    "        print \"Number of days from epoch for start date: {0}\".format( tdStart.days);\n",
    "        return tdStart.days;\n",
    "\n",
    "    def RunTillNumDays( self, dtFrom, dtTill, nrfCalendarDay, csvWriter):\n",
    "        tdStart = dtTill - dtFrom; # gives the time delta between the new start date and epoch\n",
    "        numDaysTill = tdStart.days;\n",
    "        dtIter = dtFrom;\n",
    "        r = nrfCalendarDay;\n",
    "        if ( csvWriter != None):\n",
    "            writeCalendarForDate( csvWriter, dtIter, r);\n",
    "\n",
    "        for i in range(0, numDaysTill):\n",
    "            dtIter = dtIter + datetime.timedelta( days = 1);\n",
    "            if ( i %100 == 0):\n",
    "                print \" ... Iterating for date: {0}\".format( dtIter);\n",
    "            r = r.IncrementRetail454( dtIter.month);\n",
    "            if ( csvWriter != None):\n",
    "                writeCalendarForDate( csvWriter, dtIter, r);\n",
    "        return r;\n",
    "\n",
    "    def SetupStartDatesTill( self, dtStart, csvWriter):\n",
    "        numDaysFromEpoch = self.NumDaysFromRetailEpoch( dtStart);\n",
    "\n",
    "        # setup a dictionary with Gregorian Calendar Year # and equivalent Retail454CalendarDay\n",
    "        dictForYearStart = {}; # dict.fromkeys( range( 2000, dtStart.year + 1));\n",
    "        yearsList = range( 2001, dtStart.year + 1);\n",
    "\n",
    "        dtFrom = self.retailEpocStart;\n",
    "        nrfcFrom = NRFCalendarDay();\n",
    "\n",
    "        if (csvWriter != None):\n",
    "            csvWriter.writerow( self.outputFormat);\n",
    "\n",
    "        for i in yearsList:\n",
    "\n",
    "            dtNextYear = datetime.datetime( i, 1, 1);\n",
    "            nrfCalendarForNextYear = self.RunTillNumDays( dtFrom, dtNextYear, nrfcFrom, csvWriter);\n",
    "            dictForYearStart[ dtNextYear] = nrfCalendarForNextYear;\n",
    "\n",
    "            dtFrom = dtNextYear;\n",
    "            nrfcFrom = nrfCalendarForNextYear.Clone();\n",
    "        return dictForYearStart;\n",
    "\n",
    "\n",
    "    def Print( self):\n",
    "        print \"NRF Generator Ready to go. Epoch Set to: {0}\".format( self.retailEpocStart);\n",
    "\n"
   ]
  },
  {
   "cell_type": "code",
   "execution_count": 193,
   "metadata": {
    "collapsed": false
   },
   "outputs": [],
   "source": [
    "def TestGeneration( tillYear, csvOutputFile):\n",
    "    csvWriter = None;\n",
    "    outputFileHandle  = None;\n",
    "    ng = NRFGenerator();\n",
    "    ng.Print();\n",
    "\n",
    "    if (csvOutputFile != None):\n",
    "        outputFileHandle = open( csvOutputFile, \"wb\");\n",
    "        csvWriter = csv.writer( outputFileHandle, delimiter=',');\n",
    "\n",
    "    dy = ng.SetupStartDatesTill( datetime.datetime( tillYear, 1, 1), csvWriter);\n",
    "\n",
    "    print \"\\n\\nFinished generating the Retail Calendar. Writing summary output.\"\n",
    "    keys = sorted(dy.keys());\n",
    "    vals = dy.values();\n",
    "    for k in keys:\n",
    "        print \"\\nFor Date: {0}\".format(k);\n",
    "        dy[k].Print();\n",
    "\n",
    "    if (outputFileHandle != None):\n",
    "        outputFileHandle.close();\n"
   ]
  },
  {
   "cell_type": "code",
   "execution_count": 194,
   "metadata": {
    "collapsed": false
   },
   "outputs": [
    {
     "name": "stdout",
     "output_type": "stream",
     "text": [
      "Initialized NRF Generator\n",
      "NRF Generator Ready to go. Epoch Set to: 2000-01-30 00:00:00\n",
      "Number of days from epoch for start date: 337\n",
      "Initialized NRF Calendar Day\n",
      " ... Iterating for date: 2000-01-31 00:00:00\n",
      " ... Iterating for date: 2000-05-10 00:00:00\n",
      " ... Iterating for date: 2000-08-18 00:00:00\n",
      " ... Iterating for date: 2000-11-26 00:00:00\n",
      "Initialized NRF Calendar Day\n",
      "\n",
      "\n",
      "Finished generating the Retail Calendar. Writing summary output.\n",
      "\n",
      "For Date: 2001-01-01 00:00:00\n",
      "Retail Day of Week: 2, Day Of Month 2, Month 12, Week Of Month 1, Weeks In Month 5, Week Of Year 49, Year 2000\n"
     ]
    }
   ],
   "source": [
    "TestGeneration(2001, None);"
   ]
  },
  {
   "cell_type": "code",
   "execution_count": 195,
   "metadata": {
    "collapsed": false
   },
   "outputs": [
    {
     "name": "stdout",
     "output_type": "stream",
     "text": [
      "Initialized NRF Generator\n",
      "NRF Generator Ready to go. Epoch Set to: 2000-01-30 00:00:00\n",
      "Number of days from epoch for start date: 1067\n",
      "Initialized NRF Calendar Day\n",
      " ... Iterating for date: 2000-01-31 00:00:00\n",
      " ... Iterating for date: 2000-05-10 00:00:00\n",
      " ... Iterating for date: 2000-08-18 00:00:00\n",
      " ... Iterating for date: 2000-11-26 00:00:00\n",
      "Initialized NRF Calendar Day\n",
      " ... Iterating for date: 2001-01-02 00:00:00\n",
      " ... Iterating for date: 2001-04-12 00:00:00\n",
      " ... Iterating for date: 2001-07-21 00:00:00\n",
      " ... Iterating for date: 2001-10-29 00:00:00\n",
      "Initialized NRF Calendar Day\n",
      " ... Iterating for date: 2002-01-02 00:00:00\n",
      " ... Iterating for date: 2002-04-12 00:00:00\n",
      " ... Iterating for date: 2002-07-21 00:00:00\n",
      " ... Iterating for date: 2002-10-29 00:00:00\n",
      "Initialized NRF Calendar Day\n",
      "\n",
      "\n",
      "Finished generating the Retail Calendar. Writing summary output.\n",
      "\n",
      "For Date: 2001-01-01 00:00:00\n",
      "Retail Day of Week: 2, Day Of Month 2, Month 12, Week Of Month 1, Weeks In Month 5, Week Of Year 49, Year 2000\n",
      "\n",
      "For Date: 2002-01-01 00:00:00\n",
      "Retail Day of Week: 3, Day Of Month 31, Month 11, Week Of Month 5, Weeks In Month 5, Week Of Year 48, Year 2001\n",
      "\n",
      "For Date: 2003-01-01 00:00:00\n",
      "Retail Day of Week: 4, Day Of Month 32, Month 11, Week Of Month 5, Weeks In Month 5, Week Of Year 48, Year 2002\n"
     ]
    }
   ],
   "source": [
    "TestGeneration(2003, \"test2003.csv\");"
   ]
  },
  {
   "cell_type": "code",
   "execution_count": 196,
   "metadata": {
    "collapsed": false
   },
   "outputs": [
    {
     "name": "stdout",
     "output_type": "stream",
     "text": [
      "Initialized NRF Generator\n",
      "NRF Generator Ready to go. Epoch Set to: 2000-01-30 00:00:00\n",
      "Number of days from epoch for start date: 6181\n",
      "Initialized NRF Calendar Day\n",
      " ... Iterating for date: 2000-01-31 00:00:00\n",
      " ... Iterating for date: 2000-05-10 00:00:00\n",
      " ... Iterating for date: 2000-08-18 00:00:00\n",
      " ... Iterating for date: 2000-11-26 00:00:00\n",
      "Initialized NRF Calendar Day\n",
      " ... Iterating for date: 2001-01-02 00:00:00\n",
      " ... Iterating for date: 2001-04-12 00:00:00\n",
      " ... Iterating for date: 2001-07-21 00:00:00\n",
      " ... Iterating for date: 2001-10-29 00:00:00\n",
      "Initialized NRF Calendar Day\n",
      " ... Iterating for date: 2002-01-02 00:00:00\n",
      " ... Iterating for date: 2002-04-12 00:00:00\n",
      " ... Iterating for date: 2002-07-21 00:00:00\n",
      " ... Iterating for date: 2002-10-29 00:00:00\n",
      "Initialized NRF Calendar Day\n",
      " ... Iterating for date: 2003-01-02 00:00:00\n",
      " ... Iterating for date: 2003-04-12 00:00:00\n",
      " ... Iterating for date: 2003-07-21 00:00:00\n",
      " ... Iterating for date: 2003-10-29 00:00:00\n",
      "Initialized NRF Calendar Day\n",
      " ... Iterating for date: 2004-01-02 00:00:00\n",
      " ... Iterating for date: 2004-04-11 00:00:00\n",
      " ... Iterating for date: 2004-07-20 00:00:00\n",
      " ... Iterating for date: 2004-10-28 00:00:00\n",
      "Initialized NRF Calendar Day\n",
      " ... Iterating for date: 2005-01-02 00:00:00\n",
      " ... Iterating for date: 2005-04-12 00:00:00\n",
      " ... Iterating for date: 2005-07-21 00:00:00\n",
      " ... Iterating for date: 2005-10-29 00:00:00\n",
      "Initialized NRF Calendar Day\n",
      " ... Iterating for date: 2006-01-02 00:00:00\n",
      " ... Iterating for date: 2006-04-12 00:00:00\n",
      " ... Iterating for date: 2006-07-21 00:00:00\n",
      " ... Iterating for date: 2006-10-29 00:00:00\n",
      "Initialized NRF Calendar Day\n",
      " ... Iterating for date: 2007-01-02 00:00:00\n",
      " ... Iterating for date: 2007-04-12 00:00:00\n",
      " ... Iterating for date: 2007-07-21 00:00:00\n",
      " ... Iterating for date: 2007-10-29 00:00:00\n",
      "Initialized NRF Calendar Day\n",
      " ... Iterating for date: 2008-01-02 00:00:00\n",
      " ... Iterating for date: 2008-04-11 00:00:00\n",
      " ... Iterating for date: 2008-07-20 00:00:00\n",
      " ... Iterating for date: 2008-10-28 00:00:00\n",
      "Initialized NRF Calendar Day\n",
      " ... Iterating for date: 2009-01-02 00:00:00\n",
      " ... Iterating for date: 2009-04-12 00:00:00\n",
      " ... Iterating for date: 2009-07-21 00:00:00\n",
      " ... Iterating for date: 2009-10-29 00:00:00\n",
      "Initialized NRF Calendar Day\n",
      " ... Iterating for date: 2010-01-02 00:00:00\n",
      " ... Iterating for date: 2010-04-12 00:00:00\n",
      " ... Iterating for date: 2010-07-21 00:00:00\n",
      " ... Iterating for date: 2010-10-29 00:00:00\n",
      "Initialized NRF Calendar Day\n",
      " ... Iterating for date: 2011-01-02 00:00:00\n",
      " ... Iterating for date: 2011-04-12 00:00:00\n",
      " ... Iterating for date: 2011-07-21 00:00:00\n",
      " ... Iterating for date: 2011-10-29 00:00:00\n",
      "Initialized NRF Calendar Day\n",
      " ... Iterating for date: 2012-01-02 00:00:00\n",
      " ... Iterating for date: 2012-04-11 00:00:00\n",
      " ... Iterating for date: 2012-07-20 00:00:00\n",
      " ... Iterating for date: 2012-10-28 00:00:00\n",
      "Initialized NRF Calendar Day\n",
      " ... Iterating for date: 2013-01-02 00:00:00\n",
      " ... Iterating for date: 2013-04-12 00:00:00\n",
      " ... Iterating for date: 2013-07-21 00:00:00\n",
      " ... Iterating for date: 2013-10-29 00:00:00\n",
      "Initialized NRF Calendar Day\n",
      " ... Iterating for date: 2014-01-02 00:00:00\n",
      " ... Iterating for date: 2014-04-12 00:00:00\n",
      " ... Iterating for date: 2014-07-21 00:00:00\n",
      " ... Iterating for date: 2014-10-29 00:00:00\n",
      "Initialized NRF Calendar Day\n",
      " ... Iterating for date: 2015-01-02 00:00:00\n",
      " ... Iterating for date: 2015-04-12 00:00:00\n",
      " ... Iterating for date: 2015-07-21 00:00:00\n",
      " ... Iterating for date: 2015-10-29 00:00:00\n",
      "Initialized NRF Calendar Day\n",
      " ... Iterating for date: 2016-01-02 00:00:00\n",
      " ... Iterating for date: 2016-04-11 00:00:00\n",
      " ... Iterating for date: 2016-07-20 00:00:00\n",
      " ... Iterating for date: 2016-10-28 00:00:00\n",
      "Initialized NRF Calendar Day\n",
      "\n",
      "\n",
      "Finished generating the Retail Calendar. Writing summary output.\n",
      "\n",
      "For Date: 2001-01-01 00:00:00\n",
      "Retail Day of Week: 2, Day Of Month 2, Month 12, Week Of Month 1, Weeks In Month 5, Week Of Year 49, Year 2000\n",
      "\n",
      "For Date: 2002-01-01 00:00:00\n",
      "Retail Day of Week: 3, Day Of Month 31, Month 11, Week Of Month 5, Weeks In Month 5, Week Of Year 48, Year 2001\n",
      "\n",
      "For Date: 2003-01-01 00:00:00\n",
      "Retail Day of Week: 4, Day Of Month 32, Month 11, Week Of Month 5, Weeks In Month 5, Week Of Year 48, Year 2002\n",
      "\n",
      "For Date: 2004-01-01 00:00:00\n",
      "Retail Day of Week: 5, Day Of Month 33, Month 11, Week Of Month 5, Weeks In Month 5, Week Of Year 48, Year 2003\n",
      "\n",
      "For Date: 2005-01-01 00:00:00\n",
      "Retail Day of Week: 7, Day Of Month 35, Month 11, Week Of Month 5, Weeks In Month 5, Week Of Year 48, Year 2004\n",
      "\n",
      "For Date: 2006-01-01 00:00:00\n",
      "Retail Day of Week: 1, Day Of Month 1, Month 12, Week Of Month 1, Weeks In Month 4, Week Of Year 49, Year 2005\n",
      "\n",
      "For Date: 2007-01-01 00:00:00\n",
      "Retail Day of Week: 2, Day Of Month 2, Month 12, Week Of Month 1, Weeks In Month 5, Week Of Year 49, Year 2006\n",
      "\n",
      "For Date: 2008-01-01 00:00:00\n",
      "Retail Day of Week: 3, Day Of Month 31, Month 11, Week Of Month 5, Weeks In Month 5, Week Of Year 48, Year 2007\n",
      "\n",
      "For Date: 2009-01-01 00:00:00\n",
      "Retail Day of Week: 5, Day Of Month 33, Month 11, Week Of Month 5, Weeks In Month 5, Week Of Year 48, Year 2008\n",
      "\n",
      "For Date: 2010-01-01 00:00:00\n",
      "Retail Day of Week: 6, Day Of Month 34, Month 11, Week Of Month 5, Weeks In Month 5, Week Of Year 48, Year 2009\n",
      "\n",
      "For Date: 2011-01-01 00:00:00\n",
      "Retail Day of Week: 7, Day Of Month 35, Month 11, Week Of Month 5, Weeks In Month 5, Week Of Year 48, Year 2010\n",
      "\n",
      "For Date: 2012-01-01 00:00:00\n",
      "Retail Day of Week: 1, Day Of Month 1, Month 12, Week Of Month 1, Weeks In Month 4, Week Of Year 49, Year 2011\n",
      "\n",
      "For Date: 2013-01-01 00:00:00\n",
      "Retail Day of Week: 3, Day Of Month 3, Month 12, Week Of Month 1, Weeks In Month 5, Week Of Year 49, Year 2012\n",
      "\n",
      "For Date: 2014-01-01 00:00:00\n",
      "Retail Day of Week: 4, Day Of Month 32, Month 11, Week Of Month 5, Weeks In Month 5, Week Of Year 48, Year 2013\n",
      "\n",
      "For Date: 2015-01-01 00:00:00\n",
      "Retail Day of Week: 5, Day Of Month 33, Month 11, Week Of Month 5, Weeks In Month 5, Week Of Year 48, Year 2014\n",
      "\n",
      "For Date: 2016-01-01 00:00:00\n",
      "Retail Day of Week: 6, Day Of Month 34, Month 11, Week Of Month 5, Weeks In Month 5, Week Of Year 48, Year 2015\n",
      "\n",
      "For Date: 2017-01-01 00:00:00\n",
      "Retail Day of Week: 1, Day Of Month 1, Month 12, Week Of Month 1, Weeks In Month 4, Week Of Year 49, Year 2016\n"
     ]
    }
   ],
   "source": [
    "TestGeneration(2017, \"test2017.csv\");"
   ]
  },
  {
   "cell_type": "code",
   "execution_count": null,
   "metadata": {
    "collapsed": true
   },
   "outputs": [],
   "source": []
  }
 ],
 "metadata": {
  "kernelspec": {
   "display_name": "Python 2",
   "language": "python",
   "name": "python2"
  },
  "language_info": {
   "codemirror_mode": {
    "name": "ipython",
    "version": 2
   },
   "file_extension": ".py",
   "mimetype": "text/x-python",
   "name": "python",
   "nbconvert_exporter": "python",
   "pygments_lexer": "ipython2",
   "version": "2.7.11"
  }
 },
 "nbformat": 4,
 "nbformat_minor": 0
}
