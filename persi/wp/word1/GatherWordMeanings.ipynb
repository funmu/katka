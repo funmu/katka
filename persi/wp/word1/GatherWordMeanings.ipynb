{
 "cells": [
  {
   "cell_type": "code",
   "execution_count": 1,
   "metadata": {
    "collapsed": true
   },
   "outputs": [],
   "source": [
    "# ---- IMPORT MODULES\n",
    "from PyDictionary import PyDictionary;\n",
    "dictionary=PyDictionary();"
   ]
  },
  {
   "cell_type": "code",
   "execution_count": 2,
   "metadata": {
    "collapsed": true
   },
   "outputs": [],
   "source": [
    "def GetInfoOnWord( wd, fVerbose = 0):\n",
    "    if (fVerbose):\n",
    "        print \"\\nprocesing word .... \", wd;\n",
    "    mng = dictionary.meaning(wd);\n",
    "    syn = dictionary.synonym(wd);\n",
    "    ant = dictionary.antonym(wd);\n",
    "    wordInfo = { \"word\" : wd, \"partOfSpeech\": \"Unknown\", \"meaning\": \"\"};\n",
    "    if (mng != None):\n",
    "        mngList = mng.items();\n",
    "        if (mngList != None):\n",
    "            (k, v) = mng.items()[0];\n",
    "            wordInfo[\"partOfSpeech\"] = k;\n",
    "            wordInfo[\"meaning\"] = v;\n",
    "    wordInfo[\"synonym\"] = syn;\n",
    "    wordInfo[\"antonym\"] = ant;\n",
    "    return wordInfo;\n",
    "\n",
    "def Test_GetInfoOnWord():\n",
    "    word = 'interconnection';\n",
    "    print GetInfoOnWord(word);\n",
    "\n",
    "    word2 = \"dance\";\n",
    "    print GetInfoOnWord(word2, 1);\n"
   ]
  },
  {
   "cell_type": "code",
   "execution_count": 3,
   "metadata": {
    "collapsed": true
   },
   "outputs": [],
   "source": [
    "# ------ READ WORDS from a file\n",
    "def GetInputWords( fileName, fVerbose = 0):\n",
    "    text_file = open( fileName, \"r\");\n",
    "    lines = text_file.readlines();\n",
    "    text_file.close();\n",
    "\n",
    "    # read in the input words\n",
    "    if (fVerbose):\n",
    "        print(\"\\n\\n ----- INPUT WORDS ARE ----------- \");\n",
    "        print lines;\n",
    "        \n",
    "    inputWords = [ wd.strip() for wd in lines ];\n",
    "    return inputWords;"
   ]
  },
  {
   "cell_type": "code",
   "execution_count": 4,
   "metadata": {
    "collapsed": true
   },
   "outputs": [],
   "source": [
    "def GenListOfMeanings( wordInfoList, fileName = None, fVerbose = 0):\n",
    "    \n",
    "    if (fVerbose):\n",
    "        print wordInfoList;\n",
    "        \n",
    "    outputFile = None;\n",
    "    if (fileName != None):\n",
    "        outputFile = open( fileName, \"w\");\n",
    "    \n",
    "    # iterate through each word info and produce an output\n",
    "    for wdi in wordInfoList:\n",
    "#        outText = \"{:15s}\\t{:10s}\\t{:s}\\t {:s}\\t{:s}\\n\".format(\n",
    "#            wdi[\"word\"], wdi[\"partOfSpeech\"], wdi[\"meaning\"], wdi[\"synonym\"], wdi[\"antonym\"]);\n",
    "        outText = \"{:15s}\\t{:10s}\\t\".format( wdi[\"word\"], wdi[\"partOfSpeech\"]);\n",
    "        for j in wdi[\"meaning\"]:\n",
    "            outText += j + \"\\t\";\n",
    "        outText += \"\\n\";\n",
    "        if (outputFile != None):\n",
    "            outputFile.write( outText);\n",
    "        else:\n",
    "            print outText;\n",
    "    \n",
    "    if (fileName != None):\n",
    "        outputFile.close();\n"
   ]
  },
  {
   "cell_type": "code",
   "execution_count": 8,
   "metadata": {},
   "outputs": [],
   "source": [
    "def GenMeaningForWordsFromFile( inputFile1, outputFile1):\n",
    "    inputWords = GetInputWords( inputFile1);\n",
    "    wordInfoList = [ GetInfoOnWord(wd.strip(), 1) for wd in inputWords ];\n",
    "    GenListOfMeanings( wordInfoList);\n",
    "    GenListOfMeanings( wordInfoList, outputFile1);\n",
    "    return wordInfoList;\n",
    "    \n",
    "def TestGetMeaningOfWords():\n",
    "    return GenMeaningForWordsFromFile('test1.txt', \"out1.txt\");\n",
    "    \n",
    "# Process the words list and generate output with meanings for words\n",
    "def GetMeaningForJSBWords():\n",
    "    return GenMeaningForWordsFromFile( 'jsb1000.txt', \"full.jsb1000.txt\");\n"
   ]
  },
  {
   "cell_type": "code",
   "execution_count": 10,
   "metadata": {
    "collapsed": true
   },
   "outputs": [],
   "source": [
    "import csv;\n",
    "def LoadMeaningForJSBWords( jsbWordsMeaningsFile):\n",
    "    # load the CSV File ... TO BE DONE\n",
    "    mwList = [];\n",
    "    with open( jsbWordsMeaningsFile, 'rb') as csvfile:\n",
    "        mwRead = csv.DictReader(csvfile);\n",
    "        for mw in mwRead:\n",
    "            mwList.append( mw);\n",
    "    print len(mwList);\n",
    "    return mwList;\n",
    "        \n",
    "        "
   ]
  },
  {
   "cell_type": "code",
   "execution_count": 11,
   "metadata": {},
   "outputs": [
    {
     "name": "stdout",
     "output_type": "stream",
     "text": [
      "1000\n"
     ]
    }
   ],
   "source": [
    "mwList = LoadMeaningForJSBWords( 'meanings.jsb1000.csv');\n"
   ]
  },
  {
   "cell_type": "code",
   "execution_count": 12,
   "metadata": {},
   "outputs": [],
   "source": [
    "import random\n",
    "first10 = list(map(lambda _: random.choice(mwList), range(10)))\n"
   ]
  },
  {
   "cell_type": "code",
   "execution_count": 13,
   "metadata": {},
   "outputs": [
    {
     "name": "stdout",
     "output_type": "stream",
     "text": [
      "[['storage', 'the act of storing something'], ['property', 'something owned; any tangible or intangible possession that is owned by someone'], ['failure', 'an act that fails'], ['timeworn', 'repeated too often; overfamiliar through overuse'], ['cameraman', 'a photographer who operates a movie camera'], ['quarterback', 'play the quarterback'], ['dilute', 'reduced in strength or concentration or quality or purity'], ['complaint', 'an often persistent bodily disorder or disease; a cause for complaining'], ['underground', 'under the level of the ground'], ['giraffe', 'tallest living quadruped; having a spotted coat and small horns and very long neck and legs; of savannahs of tropical Africa']]\n"
     ]
    }
   ],
   "source": [
    "pf10 = [];\n",
    "for word in first10:\n",
    "    pf10.append( [ word['Word'], word['Meaning1']]);\n",
    "print pf10;"
   ]
  },
  {
   "cell_type": "code",
   "execution_count": 14,
   "metadata": {},
   "outputs": [],
   "source": [
    "from crossword import Crossword;\n",
    "a = Crossword(16, 16, '-', 3000, pf10);\n",
    "a.compute_crossword(2);\n"
   ]
  },
  {
   "cell_type": "code",
   "execution_count": 16,
   "metadata": {},
   "outputs": [
    {
     "name": "stdout",
     "output_type": "stream",
     "text": [
      "{'a': 1, 'b': 2}\n",
      "'[underground, giraffe, dilute, quarterback, cameraman, complaint, property, timeworn, failure, storage]'\n",
      "[underground, giraffe, dilute, quarterback, cameraman, complaint, property, timeworn, failure, storage]\n"
     ]
    }
   ],
   "source": [
    "p = { \"a\": 1, \"b\": 2};\n",
    "print p;\n",
    "\n",
    "print \"\\'{}\\'\".format(a.current_word_list);\n",
    "print a.current_word_list;"
   ]
  },
  {
   "cell_type": "code",
   "execution_count": 17,
   "metadata": {},
   "outputs": [
    {
     "name": "stdout",
     "output_type": "stream",
     "text": [
      "{'wordsFinder': 'u n d e r g r o u n d w d r i u \\nj o l j p i k q i v g n q j s m \\nk j q u a r t e r b a c k t t m \\ny g u w c a x l l w w a r c q h \\nh v m m l f r s m x s m r z u j \\nf l s c t f a i l u r e i w o r \\nd i l u t e r j l x r r e g q h \\nh i q z k v i p u s l a f y z q \\nl t i m e w o r n v n m i a c t \\nd q e v o h d o e q i a b s t z \\nj g x d c o m p l a i n t z s i \\nt l i t t t v e i w x s k a q y \\nr e a v r c x r i s n s z w w g \\nm x u v k u s t o r a g e z a a \\nd y h d s c x y o g x y b e h o \\ny u j d r p h w o n o b h k v r \\n', 'legend': '1. (1,1) across: under the level of the ground\\n2. (3,3) across: play the quarterback\\n3. (6,1) down: tallest living quadruped; having a spotted coat and small horns and very long neck and legs; of savannahs of tropical Africa\\n4. (1,7) across: reduced in strength or concentration or quality or purity\\n5. (2,9) across: repeated too often; overfamiliar through overuse\\n6. (6,6) across: an act that fails\\n7. (12,3) down: a photographer who operates a movie camera\\n8. (5,11) across: an often persistent bodily disorder or disease; a cause for complaining\\n9. (8,8) down: something owned; any tangible or intangible possession that is owned by someone\\n10. (7,14) across: the act of storing something\\n', 'wordsBank': 'storage\\ncameraman\\ngiraffe\\ndilute\\ntimeworn\\nunderground\\nfailure\\ncomplaint\\nproperty\\nquarterback\\n', 'wordsCrossword': '1         3           - - - - - \\n- - - - -   - - - - - - - - - - \\n- - 2                 7   - - - \\n- - - - -   - - - - -   - - - - \\n- - - - -   - - - - -   - - - - \\n- - - - - 6             - - - - \\n4           - - - - -   - - - - \\n- - - - - - - 9 - - -   - - - - \\n- 5               - -   - - - - \\n- - - - - - -   - - -   - - - - \\n- - - - 8                 - - - \\n- - - - - - -   - - - - - - - - \\n- - - - - - -   - - - - - - - - \\n- - - - - - 10             - - - \\n- - - - - - -   - - - - - - - - \\n- - - - - - - - - - - - - - - - \\n', 'generatedWords': \"'[underground, giraffe, dilute, quarterback, cameraman, complaint, property, timeworn, failure, storage]'\", 'wordsFinderSolution': 'u n d e r g r o u n d - - - - - \\n- - - - - i - - - - - - - - - - \\n- - q u a r t e r b a c k - - - \\n- - - - - a - - - - - a - - - - \\n- - - - - f - - - - - m - - - - \\n- - - - - f a i l u r e - - - - \\nd i l u t e - - - - - r - - - - \\n- - - - - - - p - - - a - - - - \\n- t i m e w o r n - - m - - - - \\n- - - - - - - o - - - a - - - - \\n- - - - c o m p l a i n t - - - \\n- - - - - - - e - - - - - - - - \\n- - - - - - - r - - - - - - - - \\n- - - - - - s t o r a g e - - - \\n- - - - - - - y - - - - - - - - \\n- - - - - - - - - - - - - - - - \\n', 'wordsList': [['storage', 'the act of storing something'], ['property', 'something owned; any tangible or intangible possession that is owned by someone'], ['failure', 'an act that fails'], ['timeworn', 'repeated too often; overfamiliar through overuse'], ['cameraman', 'a photographer who operates a movie camera'], ['quarterback', 'play the quarterback'], ['dilute', 'reduced in strength or concentration or quality or purity'], ['complaint', 'an often persistent bodily disorder or disease; a cause for complaining'], ['underground', 'under the level of the ground'], ['giraffe', 'tallest living quadruped; having a spotted coat and small horns and very long neck and legs; of savannahs of tropical Africa']], 'problemNumber': 1}\n"
     ]
    }
   ],
   "source": [
    "\n",
    "problem1 = {\n",
    "    \"problemNumber\": 1,\n",
    "    \"wordsList\": pf10,\n",
    "    \"generatedWords\": \"\\'{}\\'\".format(a.current_word_list),\n",
    "    \n",
    "    \"wordsBank\" : a.word_bank(),\n",
    "    \"wordsFinder\": a.word_find(),\n",
    "    \"wordsFinderSolution\": a.solution(),\n",
    "    \n",
    "    \"wordsCrossword\": a.display(),\n",
    "    \"legend\": a.legend()\n",
    "};\n",
    "\n",
    "print problem1;\n"
   ]
  },
  {
   "cell_type": "code",
   "execution_count": 19,
   "metadata": {},
   "outputs": [],
   "source": [
    "import json\n",
    "output1 = json.dumps( problem1, indent=4);\n",
    "\n",
    "with open('puzzle6.json', 'w') as fp:\n",
    "    print >>  fp, output1\n",
    "    \n"
   ]
  },
  {
   "cell_type": "code",
   "execution_count": null,
   "metadata": {
    "collapsed": true
   },
   "outputs": [],
   "source": [
    "# If needed ... then run the test function\n",
    "# TestGetMeaningOfWords();"
   ]
  },
  {
   "cell_type": "code",
   "execution_count": null,
   "metadata": {},
   "outputs": [],
   "source": [
    "# Read the Input Words List\n",
    "inputFile2 = 'jsb1000.txt';\n",
    "inputWords = GetInputWords( inputFile2);\n",
    "print len(inputWords)"
   ]
  },
  {
   "cell_type": "code",
   "execution_count": null,
   "metadata": {},
   "outputs": [],
   "source": [
    "from stemming.porter2 import stem;\n",
    "from itertools import chain;\n",
    "\n",
    "def flatten(listOfLists):\n",
    "    \"Flatten one level of nesting\"\n",
    "    return list(chain.from_iterable(listOfLists))\n",
    "\n",
    "def stemall( words):\n",
    "    return set([ stem(word) for word in words]);\n"
   ]
  },
  {
   "cell_type": "code",
   "execution_count": null,
   "metadata": {},
   "outputs": [],
   "source": [
    "def TestStemming():\n",
    "    test1 = [ \"water\", \"waterjug\", \"dilute\", \"dilution\", \"waterhshed\", \"quarter\", \"quartermaster\", \"quarterback\"];\n",
    "    print test1;\n",
    "    print \"\\n......... Stemming .... \";\n",
    "    # print stem( \"indigestion\");\n",
    "    # print stemall( [ 'indigestion']);\n",
    "    stem1 = stemall( test1);\n",
    "    print len(test1);\n",
    "    print len(stem1);\n"
   ]
  },
  {
   "cell_type": "code",
   "execution_count": null,
   "metadata": {},
   "outputs": [],
   "source": [
    "def TestTryStemmingOnJSBWords():\n",
    "    stemInputs = stemall(inputWords);\n",
    "    print len(stemInputs);\n",
    "    setForInputs = set(inputWords);\n",
    "    print len(setForInputs);\n",
    "    diff1 = setForInputs.difference( stemInputs);\n",
    "    diff2 = stemInputs.difference(setForInputs);\n",
    "    print len(diff1);\n",
    "    print len(diff2);"
   ]
  },
  {
   "cell_type": "code",
   "execution_count": null,
   "metadata": {},
   "outputs": [],
   "source": [
    "import random\n",
    "list(map(lambda _: random.choice(inputWords), range(10)))"
   ]
  },
  {
   "cell_type": "code",
   "execution_count": null,
   "metadata": {
    "collapsed": true
   },
   "outputs": [],
   "source": [
    "list(map(lambda _: random.choice(inputWords), range(10)))"
   ]
  }
 ],
 "metadata": {
  "kernelspec": {
   "display_name": "Python 2",
   "language": "python",
   "name": "python2"
  },
  "language_info": {
   "codemirror_mode": {
    "name": "ipython",
    "version": 2
   },
   "file_extension": ".py",
   "mimetype": "text/x-python",
   "name": "python",
   "nbconvert_exporter": "python",
   "pygments_lexer": "ipython2",
   "version": "2.7.11"
  }
 },
 "nbformat": 4,
 "nbformat_minor": 2
}
